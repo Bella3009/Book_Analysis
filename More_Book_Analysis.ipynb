{
 "cells": [
  {
   "cell_type": "markdown",
   "id": "dee1c087-4297-4cd3-9ac6-4999dd351ab3",
   "metadata": {},
   "source": [
    "# Loading the book"
   ]
  },
  {
   "cell_type": "code",
   "execution_count": 1,
   "id": "2afbcbab-d568-468a-a686-ce9848b1bd4e",
   "metadata": {},
   "outputs": [],
   "source": [
    "import re"
   ]
  },
  {
   "cell_type": "code",
   "execution_count": 2,
   "id": "eab51943-964f-4b75-9ff4-754a079dae3b",
   "metadata": {},
   "outputs": [],
   "source": [
    "with open(\"miracle_in_the_andes.txt\", \"r\", encoding=\"UTF8\") as file:\n",
    "    book = file.read()"
   ]
  },
  {
   "cell_type": "markdown",
   "id": "95300e3a-0043-4455-9024-49af09978605",
   "metadata": {},
   "source": [
    "# The most used words (non-articles)"
   ]
  },
  {
   "cell_type": "code",
   "execution_count": 3,
   "id": "d4542816-5c82-42fe-99ca-8d0b7109e7cb",
   "metadata": {},
   "outputs": [],
   "source": [
    "pattern = re.compile(\"[a-zA-Z]+\")\n",
    "words = re.findall(pattern, book.lower())"
   ]
  },
  {
   "cell_type": "code",
   "execution_count": 4,
   "id": "ae4075da-bbc0-4b84-affd-89d8eb9b4653",
   "metadata": {},
   "outputs": [],
   "source": [
    "d = {}\n",
    "for word in words:\n",
    "    if word in d.keys():\n",
    "        d[word] = d[word]+1\n",
    "    else:\n",
    "        d[word] = 1"
   ]
  },
  {
   "cell_type": "code",
   "execution_count": 5,
   "id": "b201bf58-49f0-4eba-9b8f-2fa006357579",
   "metadata": {},
   "outputs": [
    {
     "data": {
      "text/plain": [
       "[(5346, 'the'),\n",
       " (2795, 'and'),\n",
       " (2729, 'i'),\n",
       " (2400, 'to'),\n",
       " (2060, 'of'),\n",
       " (1566, 'a'),\n",
       " (1430, 'was'),\n",
       " (1419, 'in'),\n",
       " (1226, 'we'),\n",
       " (1169, 'my'),\n",
       " (1001, 'that'),\n",
       " (946, 'he'),\n",
       " (941, 'had'),\n",
       " (800, 'it'),\n",
       " (705, 'for'),\n",
       " (700, 'as'),\n",
       " (679, 'but'),\n",
       " (632, 'with'),\n",
       " (617, 'me'),\n",
       " (576, 'on'),\n",
       " (575, 'would'),\n",
       " (530, 'his'),\n",
       " (523, 'were'),\n",
       " (519, 'us'),\n",
       " (496, 'our'),\n",
       " (481, 'at'),\n",
       " (452, 'from'),\n",
       " (420, 's'),\n",
       " (381, 'you'),\n",
       " (373, 'all'),\n",
       " (360, 'they'),\n",
       " (350, 'him'),\n",
       " (333, 'so'),\n",
       " (320, 'this'),\n",
       " (316, 'be'),\n",
       " (292, 'said'),\n",
       " (290, 't'),\n",
       " (284, 'roberto'),\n",
       " (282, 'not'),\n",
       " (275, 'them')]"
      ]
     },
     "execution_count": 5,
     "metadata": {},
     "output_type": "execute_result"
    }
   ],
   "source": [
    "d_list = [(value, key) for (key, value) in d.items()]\n",
    "d_sorted = sorted(d_list, reverse = True)\n",
    "d_sorted[:40]"
   ]
  },
  {
   "cell_type": "code",
   "execution_count": 6,
   "id": "d616c65d-e055-4597-b53d-19c6e0694d21",
   "metadata": {},
   "outputs": [],
   "source": [
    "# The below to ony to find the Python version in Jupyter"
   ]
  },
  {
   "cell_type": "code",
   "execution_count": 7,
   "id": "7b7926c5-3261-4966-a259-41a373efff2b",
   "metadata": {},
   "outputs": [
    {
     "data": {
      "text/plain": [
       "'3.10.9'"
      ]
     },
     "execution_count": 7,
     "metadata": {},
     "output_type": "execute_result"
    }
   ],
   "source": [
    "from platform import python_version\n",
    "python_version()"
   ]
  },
  {
   "cell_type": "code",
   "execution_count": 8,
   "id": "ec740f59-2f26-4058-b8a4-2f15dc7ecd4b",
   "metadata": {},
   "outputs": [
    {
     "name": "stdout",
     "output_type": "stream",
     "text": [
      "Requirement already satisfied: nltk in c:\\users\\maryann bella\\appdata\\local\\programs\\python\\python310\\lib\\site-packages (3.8.1)\n",
      "Requirement already satisfied: click in c:\\users\\maryann bella\\appdata\\local\\programs\\python\\python310\\lib\\site-packages (from nltk) (8.1.3)\n",
      "Requirement already satisfied: joblib in c:\\users\\maryann bella\\appdata\\local\\programs\\python\\python310\\lib\\site-packages (from nltk) (1.2.0)\n",
      "Requirement already satisfied: regex>=2021.8.3 in c:\\users\\maryann bella\\appdata\\local\\programs\\python\\python310\\lib\\site-packages (from nltk) (2023.6.3)\n",
      "Requirement already satisfied: tqdm in c:\\users\\maryann bella\\appdata\\local\\programs\\python\\python310\\lib\\site-packages (from nltk) (4.65.0)\n",
      "Requirement already satisfied: colorama in c:\\users\\maryann bella\\appdata\\local\\programs\\python\\python310\\lib\\site-packages (from click->nltk) (0.4.6)\n",
      "Note: you may need to restart the kernel to use updated packages.\n"
     ]
    },
    {
     "name": "stderr",
     "output_type": "stream",
     "text": [
      "WARNING: Ignoring invalid distribution -treamlit (c:\\users\\maryann bella\\appdata\\local\\programs\\python\\python310\\lib\\site-packages)\n",
      "WARNING: Ignoring invalid distribution -treamlit (c:\\users\\maryann bella\\appdata\\local\\programs\\python\\python310\\lib\\site-packages)\n"
     ]
    }
   ],
   "source": [
    "pip install nltk"
   ]
  },
  {
   "cell_type": "code",
   "execution_count": 9,
   "id": "5891caf3-05cd-4f21-868e-9b63d9ce61fb",
   "metadata": {},
   "outputs": [
    {
     "name": "stderr",
     "output_type": "stream",
     "text": [
      "[nltk_data] Downloading package stopwords to C:\\Users\\Maryann\n",
      "[nltk_data]     Bella\\AppData\\Roaming\\nltk_data...\n",
      "[nltk_data]   Package stopwords is already up-to-date!\n"
     ]
    },
    {
     "data": {
      "text/plain": [
       "True"
      ]
     },
     "execution_count": 9,
     "metadata": {},
     "output_type": "execute_result"
    }
   ],
   "source": [
    "import nltk\n",
    "\n",
    "nltk.download(\"stopwords\")"
   ]
  },
  {
   "cell_type": "code",
   "execution_count": 10,
   "id": "17dcffe4-3616-40c8-b316-1eeece175771",
   "metadata": {},
   "outputs": [],
   "source": [
    "from nltk.corpus import stopwords\n",
    "english_stopwords = stopwords.words(\"english\")"
   ]
  },
  {
   "cell_type": "code",
   "execution_count": 11,
   "id": "cfe8d22d-04c6-40a9-a5bf-b1064df7a8fb",
   "metadata": {},
   "outputs": [],
   "source": [
    "filtered_words = []"
   ]
  },
  {
   "cell_type": "code",
   "execution_count": 12,
   "id": "39ee33c9-dfe8-4fd3-8132-eab819fca3de",
   "metadata": {},
   "outputs": [],
   "source": [
    "for count, word in d_sorted:\n",
    "    if word not in english_stopwords:\n",
    "        filtered_words.append((word,count))"
   ]
  },
  {
   "cell_type": "code",
   "execution_count": 14,
   "id": "e46765dc-091d-4350-9531-a323cf6496ec",
   "metadata": {},
   "outputs": [
    {
     "data": {
      "text/plain": [
       "[('would', 575),\n",
       " ('us', 519),\n",
       " ('said', 292),\n",
       " ('roberto', 284),\n",
       " ('could', 252),\n",
       " ('one', 249),\n",
       " ('snow', 227),\n",
       " ('mountain', 183),\n",
       " ('time', 182),\n",
       " ('like', 165),\n",
       " ('way', 164),\n",
       " ('life', 161),\n",
       " ('knew', 155),\n",
       " ('mountains', 147),\n",
       " ('fuselage', 140)]"
      ]
     },
     "execution_count": 14,
     "metadata": {},
     "output_type": "execute_result"
    }
   ],
   "source": [
    "filtered_words[:15]"
   ]
  },
  {
   "cell_type": "markdown",
   "id": "277a9a63-307d-4bd9-a14d-54c3285d9190",
   "metadata": {},
   "source": [
    "# Sentiment Analysis: What is the most positive and the most negative chapter?"
   ]
  },
  {
   "cell_type": "code",
   "execution_count": null,
   "id": "79fb48c5-8267-4380-9cf1-a3f484f59e1e",
   "metadata": {},
   "outputs": [],
   "source": []
  }
 ],
 "metadata": {
  "kernelspec": {
   "display_name": "Python 3 (ipykernel)",
   "language": "python",
   "name": "python3"
  },
  "language_info": {
   "codemirror_mode": {
    "name": "ipython",
    "version": 3
   },
   "file_extension": ".py",
   "mimetype": "text/x-python",
   "name": "python",
   "nbconvert_exporter": "python",
   "pygments_lexer": "ipython3",
   "version": "3.10.9"
  }
 },
 "nbformat": 4,
 "nbformat_minor": 5
}
