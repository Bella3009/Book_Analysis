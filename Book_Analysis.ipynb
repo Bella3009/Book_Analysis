{
 "cells": [
  {
   "cell_type": "markdown",
   "id": "41ae1935-262e-485e-ac9c-b5d78f168f37",
   "metadata": {},
   "source": [
    "# Book Sentiment Analysis"
   ]
  },
  {
   "cell_type": "markdown",
   "id": "98c79b10-2c36-470b-872d-d01e483b0dce",
   "metadata": {},
   "source": [
    "# Retrieve the data"
   ]
  },
  {
   "cell_type": "code",
   "execution_count": 19,
   "id": "d0c82dfc-28ec-48d3-860c-0614b4232e9a",
   "metadata": {},
   "outputs": [],
   "source": [
    "import re"
   ]
  },
  {
   "cell_type": "code",
   "execution_count": 11,
   "id": "c4b543ef-63e2-43ad-b9e5-47b44a88e2d8",
   "metadata": {},
   "outputs": [],
   "source": [
    "with open(\"miracle_in_the_andes.txt\", \"r\", encoding=\"UTF8\") as file:\n",
    "    book = file.read()"
   ]
  },
  {
   "cell_type": "markdown",
   "id": "5b1edfed-1c8e-4ed5-8a35-03a354ea887c",
   "metadata": {},
   "source": [
    "# How many Chapters"
   ]
  },
  {
   "cell_type": "markdown",
   "id": "3fd3f71d-a5f0-4188-be93-d8dd1c37275e",
   "metadata": {},
   "source": [
    "### With the string method"
   ]
  },
  {
   "cell_type": "code",
   "execution_count": 15,
   "id": "dd19756c-36af-4782-a8c6-6da68c23883c",
   "metadata": {},
   "outputs": [
    {
     "data": {
      "text/plain": [
       "11"
      ]
     },
     "execution_count": 15,
     "metadata": {},
     "output_type": "execute_result"
    }
   ],
   "source": [
    "book.count(\"Chapter\")"
   ]
  },
  {
   "cell_type": "markdown",
   "id": "cecf8c57-75e8-4398-8706-9fae57d3e8af",
   "metadata": {},
   "source": [
    "### With regex"
   ]
  },
  {
   "cell_type": "code",
   "execution_count": 23,
   "id": "431129e6-4dc0-46a3-9e9a-1672f82b6d78",
   "metadata": {},
   "outputs": [
    {
     "data": {
      "text/plain": [
       "10"
      ]
     },
     "execution_count": 23,
     "metadata": {},
     "output_type": "execute_result"
    }
   ],
   "source": [
    "pattern = re.compile(\"Chapter [0-9]+\")\n",
    "chapters = re.findall(pattern, book)\n",
    "len(chapters)"
   ]
  },
  {
   "cell_type": "code",
   "execution_count": null,
   "id": "89969061-1761-4c00-acbf-d569612911a5",
   "metadata": {},
   "outputs": [],
   "source": []
  }
 ],
 "metadata": {
  "kernelspec": {
   "display_name": "Python 3 (ipykernel)",
   "language": "python",
   "name": "python3"
  },
  "language_info": {
   "codemirror_mode": {
    "name": "ipython",
    "version": 3
   },
   "file_extension": ".py",
   "mimetype": "text/x-python",
   "name": "python",
   "nbconvert_exporter": "python",
   "pygments_lexer": "ipython3",
   "version": "3.10.9"
  }
 },
 "nbformat": 4,
 "nbformat_minor": 5
}
